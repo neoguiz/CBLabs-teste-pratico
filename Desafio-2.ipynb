{
 "cells": [
  {
   "cell_type": "markdown",
   "metadata": {},
   "source": [
    "# Desafio 2"
   ]
  },
  {
   "cell_type": "markdown",
   "metadata": {},
   "source": [
    "<hr>"
   ]
  },
  {
   "cell_type": "markdown",
   "metadata": {},
   "source": [
    "#### Contexto:\n",
    "\n",
    "Nossa equipe de inteligência de negócios precisa analisar a receita de todas as lojas de uma\n",
    "rede de restaurantes.\n",
    "\n",
    "Essas informações podem ser obtidas por meio de 5 endpoints de API.\n"
   ]
  },
  {
   "cell_type": "markdown",
   "metadata": {},
   "source": [
    "| **Method** | **API/Endpoint**                    | **Payload**              |\n",
    "|------------|-------------------------------------|--------------------------|\n",
    "| POST       | /bi/getFiscalInvoice               | - busDt: string(date)    |\n",
    "|            |                                     | - storeId: string        |\n",
    "| POST       | /res/getGuestChecks                | - busDt: string(date)    |\n",
    "|            |                                     | - storeId: string        |\n",
    "| POST       | /org/getChargeBack                 | - busDt: string(date)    |\n",
    "|            |                                     | - storeId: string        |\n",
    "| POST       | /trans/getTransactions             | - busDt: string(date)    |\n",
    "|            |                                     | - storeId: string        |\n",
    "| POST       | /inv/getCashManagementDetails      | - busDt: string(date)    |\n",
    "|            |                                     | - storeId: string        |\n",
    "\n",
    "\n",
    "###### *storeId corresponde ao identificador da loja.\n",
    "\n",
    "###### *busDt corresponde à data de operação.\n",
    "\n"
   ]
  },
  {
   "cell_type": "markdown",
   "metadata": {},
   "source": [
    "**Tarefa**: Esta é uma continuação do primeiro desafio. Você deve armazenar os dados das\n",
    "respostas das APIs (JSON) no nosso data lake"
   ]
  },
  {
   "cell_type": "markdown",
   "metadata": {},
   "source": [
    "## 1. Por que armazenar as respostas das APIs?"
   ]
  },
  {
   "cell_type": "markdown",
   "metadata": {},
   "source": [
    "Armazenar as respostas das APIs permite preservar informações temporais, como vendas diárias e dados fiscais, fundamentais para análises históricas e decisões estratégicas. Sem esse armazenamento, a equipe de inteligência de negócios teria acesso apenas a dados recentes, limitando a identificação de padrões e tendências. Além disso, a centralização das informações em um data lake integra os dados das diferentes APIs, facilitando análises cruzadas, como combinar vendas com cobranças adicionais, eliminando a fragmentação e garantindo consistência nas operações. Essa prática também reduz a carga nos sistemas de produção ao evitar requisições contínuas, permitindo que as análises sejam feitas diretamente nos dados armazenados. O modelo é escalável, acompanhando o crescimento da rede e suportando novas demandas, como previsões de receita."
   ]
  },
  {
   "cell_type": "markdown",
   "metadata": {},
   "source": [
    "<hr>"
   ]
  },
  {
   "cell_type": "markdown",
   "metadata": {},
   "source": [
    "## 2. Como você armazenaria os dados? Crie uma estrutura de pastas capaz de armazenar as respostas da API. Ela deve permitir manipulaçõe, verificações, buscas e pesquisas rápidas."
   ]
  },
  {
   "cell_type": "code",
   "execution_count": null,
   "metadata": {
    "vscode": {
     "languageId": "html"
    }
   },
   "outputs": [],
   "source": [
    "/data_lake/\n",
    "    /api_data/\n",
    "        /{endpoint}/\n",
    "            /year={YYYY}/\n",
    "                /month={MM}/\n",
    "                    /day={DD}/\n",
    "                        /storeId={storeId}/\n",
    "                            {endpoint}_{busDt}_{storeId}.json\n"
   ]
  },
  {
   "cell_type": "markdown",
   "metadata": {},
   "source": [
    "#### Explicação da Estrutura"
   ]
  },
  {
   "cell_type": "markdown",
   "metadata": {},
   "source": [
    "**Nível 1 - Diretório Raiz (/data_lake/api_data/):**\n",
    "\n",
    "Todos os dados das APIs ficam centralizados em um único local, garantindo que diferentes fontes sejam armazenadas de maneira consistente.\n",
    "\n",
    "**Nível 2 - Diretório por Endpoint (/{endpoint}/):**\n",
    "\n",
    "Cada API tem seu próprio diretório (ex.: /bi/getFiscalInvoice/, /res/getGuestChecks/), facilitando a segmentação dos dados por fonte.\n",
    "Isso permite acessar rapidamente os dados de um endpoint específico sem interferir nos outros.\n",
    "\n",
    "**Nível 3 - Particionamento Temporal (/year={YYYY}/month={MM}/day={DD}/):**\n",
    "\n",
    "Os dados são particionados por ano, mês e dia, alinhados à propriedade busDt do payload.\n",
    "Esse particionamento facilita buscas rápidas em consultas temporais, como \"dados de janeiro de 2024\".\n",
    "\n",
    "**Nível 4 - Diretório por Loja (/storeId={storeId}/):**\n",
    "\n",
    "Dentro de cada dia, os dados são armazenados por storeId, permitindo consultas específicas para uma loja individual.\n",
    "\n",
    "**Arquivos Nomeados Descritivamente:**\n",
    "\n",
    "Nome do arquivo: {endpoint}_{busDt}_{storeId}.json\n",
    "Exemplo: getGuestChecks_2024-01-01_99CB.json\n",
    "Isso ajuda a identificar rapidamente o conteúdo de um arquivo sem precisar abrir ou processá-lo."
   ]
  },
  {
   "cell_type": "markdown",
   "metadata": {},
   "source": [
    "<hr>"
   ]
  },
  {
   "cell_type": "markdown",
   "metadata": {},
   "source": [
    "## 3. Considere que a resposta do endpoint getGuestChecks foi alterada, por exemplo, guestChecks.taxes foi renomeado para guestChecks.taxation. O que isso implicaria?\n"
   ]
  },
  {
   "cell_type": "markdown",
   "metadata": {},
   "source": [
    "A mudança de guestChecks.taxes para guestChecks.taxation impacta diretamente os pipelines de ETL, o armazenamento no data lake e as análises existentes. Sem ajustes, os processos que dependem de taxes falharão ao encontrar o novo campo. Para resolver, é necessário implementar uma transformação no pipeline que normalize o nome, como no exemplo:"
   ]
  },
  {
   "cell_type": "code",
   "execution_count": null,
   "metadata": {},
   "outputs": [],
   "source": [
    "def normalize_schema(data):\n",
    "    if \"taxation\" in data[\"guestChecks\"]:\n",
    "        data[\"guestChecks\"][\"taxes\"] = data[\"guestChecks\"].pop(\"taxation\")\n",
    "    return data"
   ]
  },
  {
   "cell_type": "markdown",
   "metadata": {},
   "source": [
    "Esse é um exemplo simples que pode garantir a integridade dos dados em uma pipeline. Além disso, consultas e relatórios devem ser adaptados para lidar com ambos os nomes durante a transição, usando lógica como:"
   ]
  },
  {
   "cell_type": "code",
   "execution_count": null,
   "metadata": {},
   "outputs": [],
   "source": [
    "def get_taxes(data):\n",
    "    return data[\"guestChecks\"].get(\"taxes\") or data[\"guestChecks\"].get(\"taxation\")"
   ]
  },
  {
   "cell_type": "markdown",
   "metadata": {},
   "source": [
    "Para evitar problemas futuros, pode ser adicionado uma versão de schema nos dados armazenados e comunicar claramente a mudança aos interessados. Com esses ajustes, a operação segue sem interrupções e mantém a integridade dos dados."
   ]
  }
 ],
 "metadata": {
  "kernelspec": {
   "display_name": "Python 3",
   "language": "python",
   "name": "python3"
  },
  "language_info": {
   "name": "python",
   "version": "3.12.1"
  }
 },
 "nbformat": 4,
 "nbformat_minor": 2
}
